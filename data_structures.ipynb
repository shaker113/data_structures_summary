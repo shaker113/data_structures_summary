{
 "cells": [
  {
   "attachments": {},
   "cell_type": "markdown",
   "metadata": {},
   "source": [
    "# User-Defined Data Structures\n"
   ]
  },
  {
   "attachments": {},
   "cell_type": "markdown",
   "metadata": {},
   "source": [
    "Some of the most popular data structures are:\n",
    "- Stacks\n",
    "- Queues\n",
    "- Linked Lists\n",
    "- Graphs"
   ]
  },
  {
   "attachments": {},
   "cell_type": "markdown",
   "metadata": {},
   "source": [
    "## Stack"
   ]
  },
  {
   "attachments": {},
   "cell_type": "markdown",
   "metadata": {},
   "source": [
    "A **stack** is a simple data structure that adds and removes elements in a particular order.\n",
    "Every time an element is added, it goes on the \"top\" of the stack. Only an element at the top of the stack can be removed, just like a stack of plates. This behavior is called *LIFO* (Last In, First Out).\n",
    "* Adding a new element onto the stack is called **push**.\n",
    "* Removing an element from the stack is called **pop**.\n",
    "\n",
    "**Note** : A stack can be implemented using a list in Python.\n"
   ]
  },
  {
   "cell_type": "code",
   "execution_count": 1,
   "metadata": {},
   "outputs": [
    {
     "name": "stdout",
     "output_type": "stream",
     "text": [
      "['c', 'b', 'a']\n",
      "['b', 'a']\n"
     ]
    }
   ],
   "source": [
    "class Stack:\n",
    "    def __init__(self):\n",
    "        self.items = []  \n",
    "  \n",
    "    def is_empty(self):\n",
    "        return self.items == []\n",
    "  \n",
    "    def push(self, item):\n",
    "        self.items.insert(0, item)\n",
    "    \n",
    "    def pop(self):\n",
    "        return self.items.pop(0)\n",
    "    \n",
    "    def print_stack(self):\n",
    "        print(self.items)\n",
    "    \n",
    "s = Stack()\n",
    "s.push('a')\n",
    "s.push('b')\n",
    "s.push('c')\n",
    "s.print_stack()\n",
    "\n",
    "s.pop()\n",
    "s.print_stack()"
   ]
  },
  {
   "attachments": {},
   "cell_type": "markdown",
   "metadata": {},
   "source": [
    "## Queue"
   ]
  },
  {
   "attachments": {},
   "cell_type": "markdown",
   "metadata": {},
   "source": [
    "A **queue** is similar to a stack, but defines a different way to add and remove elements.\n",
    "* The elements are inserted from one end, called the **rear**,\n",
    "* and deleted from the other end, called the **front**.\n",
    "\n",
    "This behavior is called *FIFO* (First in First Out).\n",
    "\n",
    "* The process of adding new elements into the queue is called **enqueue**.\n",
    "* The process of removal of an element from the queue is called **dequeue**.\n",
    "\n",
    "**Note** : Python lists are the easiest way to implement a queue functionality.\n"
   ]
  },
  {
   "cell_type": "code",
   "execution_count": 2,
   "metadata": {},
   "outputs": [
    {
     "name": "stdout",
     "output_type": "stream",
     "text": [
      "['42', 'b', 'a']\n",
      "['42', 'b']\n"
     ]
    }
   ],
   "source": [
    "class Queue:\n",
    "    def __init__(self):\n",
    "        self.items = []\n",
    "\n",
    "    def is_empty(self):\n",
    "        return self.items == []\n",
    "\n",
    "    def enqueue(self, item):\n",
    "        self.items.insert(0, item)\n",
    "\n",
    "    def dequeue(self):\n",
    "        return self.items.pop() # pops the last item\n",
    "\n",
    "    def print_queue(self):\n",
    "        print(self.items)\n",
    "\n",
    "q = Queue()\n",
    "q.enqueue('a')\n",
    "q.enqueue('b')\n",
    "q.enqueue('42')\n",
    "q.print_queue()\n",
    "\n",
    "q.dequeue()\n",
    "q.print_queue()"
   ]
  },
  {
   "attachments": {},
   "cell_type": "markdown",
   "metadata": {},
   "source": [
    "## Linked List"
   ]
  },
  {
   "attachments": {},
   "cell_type": "markdown",
   "metadata": {},
   "source": [
    "A **linked list** is a sequence of nodes where each node stores its own data and a link to the next node.\n",
    "\n",
    "One node links to another forming what can be thought of as a linked chain\n",
    "* The first node is called the head, and it's used as the starting point for any iteration through the list. \n",
    "* The last node must have its link pointing to None to determine the end of the list.\n",
    "\n",
    "**Note** : Linked lists can also be used to create other data structures, such as stack, queues and graphs.\n"
   ]
  },
  {
   "cell_type": "code",
   "execution_count": 1,
   "metadata": {},
   "outputs": [
    {
     "name": "stdout",
     "output_type": "stream",
     "text": [
      "9 => 5 => 8 => \n",
      "8\n"
     ]
    }
   ],
   "source": [
    "class Node: # Each node will include data and the link to the next node\n",
    "  def __init__(self, data, next):\n",
    "    self.data = data\n",
    "    self.next = next\n",
    "\n",
    "class LinkedList:\n",
    "    def __init__(self):\n",
    "        self.head = None\n",
    "    \n",
    "    def add_at_front(self, data): # adds a new Node as the head of the list and links the previous head to it\n",
    "        self.head = Node(data, self.head)      \n",
    "\n",
    "    def add_at_end(self, data): # adds the new node as the link of the last node\n",
    "        if not self.head:\n",
    "            self.head = Node(data, None)\n",
    "            return\n",
    "        curr = self.head\n",
    "        while curr.next:\n",
    "            curr = curr.next\n",
    "        curr.next = Node(data, None)\n",
    "\n",
    "    def get_last_node(self):\n",
    "        n = self.head\n",
    "        while(n.next != None):\n",
    "            n = n.next\n",
    "        return n.data\n",
    "\n",
    "    def is_empty(self):\n",
    "        return self.head == None\n",
    "\n",
    "    def print_list(self):\n",
    "        n = self.head\n",
    "        while n != None:\n",
    "            print(n.data, end = \" => \")\n",
    "            n = n.next\n",
    "        print()\n",
    "\n",
    "\n",
    "s = LinkedList()\n",
    "s.add_at_front(5)\n",
    "s.add_at_end(8)\n",
    "s.add_at_front(9)\n",
    "\n",
    "s.print_list()\n",
    "print(s.get_last_node())"
   ]
  },
  {
   "attachments": {},
   "cell_type": "markdown",
   "metadata": {},
   "source": [
    "## Graph"
   ]
  },
  {
   "attachments": {},
   "cell_type": "markdown",
   "metadata": {},
   "source": [
    "A **graph** is a set of connected nodes where each node is called a **Vertex** and the connection between two of them is called an **Edge**. [image](https://media.geeksforgeeks.org/wp-content/cdn-uploads/undirectedgraph.png)\n",
    "\n",
    "A graph can be represented using a square matrix, where each element represents the edges: 0 indicates no edge, while 1 indicates an edge. The rows and columns represent the vertices.\n",
    "\n",
    "For example:\n",
    "\n",
    "0 1 1\n",
    "\n",
    "1 0 0\n",
    "\n",
    "1 0 0\n",
    "\n",
    "The matrix above represents a graph with 3 vertices (that's why it's a 3x3 matrix).\n",
    "The 1s represent the edges. There are 2 edges: the 1st vertex is connected with the 2nd and 3rd.\n",
    "There are four 1s in the matrix, because if A is connected with B, then B is connected to A."
   ]
  },
  {
   "cell_type": "code",
   "execution_count": 12,
   "metadata": {},
   "outputs": [
    {
     "name": "stdout",
     "output_type": "stream",
     "text": [
      "\n",
      "   0   0   1   0\n",
      "   0   0   0   1\n",
      "   1   0   0   1\n",
      "   0   1   1   0"
     ]
    }
   ],
   "source": [
    "class Graph(): \n",
    "    def __init__(self, size): \n",
    "        self.adj = [ [0] * size for i in range(size)]\n",
    "        self.size = size \n",
    "    \n",
    "    def add_edge(self, orig, dest): \n",
    "        if orig > self.size or dest > self.size or orig < 0 or dest < 0: \n",
    "            print(\"Invalid Edge\") \n",
    "        else: \n",
    "            self.adj[orig-1][dest-1] = 1 \n",
    "            self.adj[dest-1][orig-1] = 1 \n",
    "        \n",
    "    def remove_edge(self, orig, dest): \n",
    "        if orig > self.size or dest > self.size or orig < 0 or dest < 0: \n",
    "            print(\"Invalid Edge\") \n",
    "        else: \n",
    "            self.adj[orig-1][dest-1] = 0 \n",
    "            self.adj[dest-1][orig-1] = 0 \n",
    "            \n",
    "    def display(self): \n",
    "        for row in self.adj: \n",
    "            print() \n",
    "            for val in row: \n",
    "                print('{:4}'.format(val),end=\"\") \n",
    "\n",
    "#a sample Graph \n",
    "G = Graph(4) \n",
    "G.add_edge(1, 3) \n",
    "G.add_edge(3, 4)\n",
    "G.add_edge(2, 4)\n",
    "G.display()"
   ]
  }
 ],
 "metadata": {
  "kernelspec": {
   "display_name": "Python 3",
   "language": "python",
   "name": "python3"
  },
  "language_info": {
   "codemirror_mode": {
    "name": "ipython",
    "version": 3
   },
   "file_extension": ".py",
   "mimetype": "text/x-python",
   "name": "python",
   "nbconvert_exporter": "python",
   "pygments_lexer": "ipython3",
   "version": "3.10.9"
  },
  "orig_nbformat": 4,
  "vscode": {
   "interpreter": {
    "hash": "84fd2673a0f847bf80637898000f9b4175f2ffd476d5f31b41a838c2acdb5b76"
   }
  }
 },
 "nbformat": 4,
 "nbformat_minor": 2
}
